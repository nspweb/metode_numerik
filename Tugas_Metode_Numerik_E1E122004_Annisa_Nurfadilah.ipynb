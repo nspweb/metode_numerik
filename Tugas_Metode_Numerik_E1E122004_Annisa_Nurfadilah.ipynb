{
  "nbformat": 4,
  "nbformat_minor": 0,
  "metadata": {
    "colab": {
      "provenance": [],
      "authorship_tag": "ABX9TyMSkMOusaTd76xc2pqilEIK",
      "include_colab_link": true
    },
    "kernelspec": {
      "name": "python3",
      "display_name": "Python 3"
    },
    "language_info": {
      "name": "python"
    }
  },
  "cells": [
    {
      "cell_type": "markdown",
      "metadata": {
        "id": "view-in-github",
        "colab_type": "text"
      },
      "source": [
        "<a href=\"https://colab.research.google.com/github/nspweb/metode_numerik/blob/main/Tugas_Metode_Numerik_E1E122004_Annisa_Nurfadilah.ipynb\" target=\"_parent\"><img src=\"https://colab.research.google.com/assets/colab-badge.svg\" alt=\"Open In Colab\"/></a>"
      ]
    },
    {
      "cell_type": "markdown",
      "source": [
        "# **E1E122004 - Annisa Nurfadilah**\n",
        "\n",
        "\n",
        "\n",
        "---\n",
        "\n",
        "\n",
        "Membuat program menghitung hampiran nilai cos(x)\n",
        "\n",
        "\n",
        "---\n",
        "\n",
        "\n",
        "\n",
        "*   Di sini saya menggunakan bahasa pemrograman python\n",
        "*   Tanpa menggunakan library, program dibuat dengan menggunakan def\n",
        "\n",
        "\n"
      ],
      "metadata": {
        "id": "kp8S4a6Oky7X"
      }
    },
    {
      "cell_type": "markdown",
      "source": [
        "# **Langkah - Langkah Perhitungan Cos(X) :**\n",
        "\n",
        "\n",
        "---\n",
        "\n",
        "\n",
        "\n",
        "1.   Tetapkan nilai epsilon sebagai toleransi nilai suku, misalnya di sini saya menggunakan 0.00000001.\n",
        "2.   Lakukan perulangan selama nilai absolut dari suku masih lebih besar atau sama dengan epsilon.\n",
        "3. Pada setiap iterasi terjadi :    \n",
        "*   Menghitung nilai suku dalam deret Taylor menggunakan rumus deret Taylor.\n",
        "*   Menambahkan nilai suku ke dalam jumlah.\n",
        "* Meningkatkan orde suku (n) dengan menambahkan 2 karena deret Taylor cosinus memiliki orde ganjil.\n",
        "* Mengganti tanda suku berikutnya sesuai dengan pola dalam deret Taylor.\n",
        "4. Melakukan perhitungan nilai suku yaitu { (tanda * x^n) / (faktorial(n)) }\n",
        "\n",
        "\n"
      ],
      "metadata": {
        "id": "NL-Jui2CBg8S"
      }
    },
    {
      "cell_type": "code",
      "execution_count": 9,
      "metadata": {
        "id": "FA1T5NfLjtYZ"
      },
      "outputs": [],
      "source": [
        "def pangkat(x, n): # menghitung nilai x pangkat n\n",
        "    return x ** n"
      ]
    },
    {
      "cell_type": "code",
      "source": [
        "def faktorial(n): # menghitung nilai faktorial dari n\n",
        "    if n == 0:\n",
        "        return 1\n",
        "    else:\n",
        "        return n * faktorial(n - 1)"
      ],
      "metadata": {
        "id": "1ziIG08AnG9D"
      },
      "execution_count": 10,
      "outputs": []
    },
    {
      "cell_type": "code",
      "source": [
        "def cos(x): # menghitung nilai cosinus sampai nilai suatu suku < epsilon.\n",
        "    epsilon = 0.00000001\n",
        "    tanda = 1\n",
        "    n = 0\n",
        "    suku = 1\n",
        "    jumlah = 0\n",
        "\n",
        "    while abs(suku) >= epsilon:\n",
        "        jumlah += suku\n",
        "        n += 2\n",
        "        tanda = -tanda\n",
        "        suku = tanda * pangkat(x, n) / faktorial(n)\n",
        "\n",
        "    return jumlah"
      ],
      "metadata": {
        "id": "Yaaxe75tqF1a"
      },
      "execution_count": 11,
      "outputs": []
    },
    {
      "cell_type": "code",
      "source": [
        "sudut = float(input(\"Masukkan sudut dalam radian: \"))\n",
        "hasil_cos = cos(sudut)\n",
        "print(f\"Nilai cos({sudut}) adalah: {hasil_cos}\")"
      ],
      "metadata": {
        "colab": {
          "base_uri": "https://localhost:8080/"
        },
        "id": "koc-bmTxqpTy",
        "outputId": "edb017ca-a16e-4fa3-c11b-9bf73df9f0f2"
      },
      "execution_count": 12,
      "outputs": [
        {
          "output_type": "stream",
          "name": "stdout",
          "text": [
            "Masukkan sudut dalam radian: 0.2\n",
            "Nilai cos(0.2) adalah: 0.9800665777777777\n"
          ]
        }
      ]
    }
  ]
}